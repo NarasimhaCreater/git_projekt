{
 "cells": [
  {
   "cell_type": "code",
   "execution_count": null,
   "id": "c15ea6a5",
   "metadata": {},
   "outputs": [],
   "source": [
    "print(\"Witam wszystkich!\")"
   ]
  }
 ],
 "metadata": {
  "kernelspec": {
   "display_name": "od_zera_do_ai",
   "language": "python",
   "name": "python3"
  },
  "language_info": {
   "name": "python",
   "version": "3.11.13"
  }
 },
 "nbformat": 4,
 "nbformat_minor": 5
}
